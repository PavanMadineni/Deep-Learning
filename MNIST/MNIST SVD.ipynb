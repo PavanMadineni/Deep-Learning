{
 "cells": [
  {
   "cell_type": "code",
   "execution_count": 1,
   "metadata": {},
   "outputs": [
    {
     "name": "stdout",
     "output_type": "stream",
     "text": [
      "1.5.0\n"
     ]
    }
   ],
   "source": [
    "import os\n",
    "os.environ[\"CUDA_DEVICE_ORDER\"]=\"PCI_BUS_ID\"\n",
    "os.environ[\"CUDA_VISIBLE_DEVICES\"]=\"0\"\n",
    "\n",
    "import tensorflow as tf\n",
    "print(tf.__version__)\n",
    "\n",
    "config = tf.ConfigProto()\n",
    "config.gpu_options.allow_growth = True\n",
    "config.gpu_options.per_process_gpu_memory_fraction = 0.33"
   ]
  },
  {
   "cell_type": "code",
   "execution_count": 2,
   "metadata": {},
   "outputs": [
    {
     "name": "stdout",
     "output_type": "stream",
     "text": [
      "[name: \"/device:CPU:0\"\n",
      "device_type: \"CPU\"\n",
      "memory_limit: 268435456\n",
      "locality {\n",
      "}\n",
      "incarnation: 14533308898057911443\n",
      ", name: \"/device:GPU:0\"\n",
      "device_type: \"GPU\"\n",
      "memory_limit: 14819619636\n",
      "locality {\n",
      "  bus_id: 1\n",
      "}\n",
      "incarnation: 4552643302349773608\n",
      "physical_device_desc: \"device: 0, name: Tesla V100-SXM2-16GB, pci bus id: 0000:09:00.0, compute capability: 7.0\"\n",
      "]\n"
     ]
    }
   ],
   "source": [
    "from tensorflow.python.client import device_lib\n",
    "print(device_lib.list_local_devices())"
   ]
  },
  {
   "cell_type": "code",
   "execution_count": 3,
   "metadata": {},
   "outputs": [
    {
     "name": "stdout",
     "output_type": "stream",
     "text": [
      "Extracting MNIST_data/train-images-idx3-ubyte.gz\n",
      "Extracting MNIST_data/train-labels-idx1-ubyte.gz\n",
      "Extracting MNIST_data/t10k-images-idx3-ubyte.gz\n",
      "Extracting MNIST_data/t10k-labels-idx1-ubyte.gz\n"
     ]
    }
   ],
   "source": [
    "from tensorflow.examples.tutorials.mnist import input_data\n",
    "mnist = input_data.read_data_sets(\"MNIST_data/\",one_hot=True)"
   ]
  },
  {
   "cell_type": "code",
   "execution_count": 4,
   "metadata": {},
   "outputs": [],
   "source": [
    "tf.set_random_seed(4286)"
   ]
  },
  {
   "cell_type": "code",
   "execution_count": 5,
   "metadata": {},
   "outputs": [],
   "source": [
    "import numpy as np\n",
    "import matplotlib.pyplot as plt\n",
    "%matplotlib inline"
   ]
  },
  {
   "cell_type": "code",
   "execution_count": 6,
   "metadata": {},
   "outputs": [],
   "source": [
    "# Creating the Place Holders\n",
    "\n",
    "X = tf.placeholder(tf.float32, shape = [None, 784])\n",
    "\n",
    "Y_true = tf.placeholder(tf.float32, shape = [None, 10])"
   ]
  },
  {
   "cell_type": "code",
   "execution_count": 7,
   "metadata": {},
   "outputs": [],
   "source": [
    "# Defining the Hidden Layers\n",
    "\n",
    "HL1 = 1024\n",
    "\n",
    "HL2 = 1024\n",
    "\n",
    "HL3 = 1024\n",
    "\n",
    "HL4 = 1024\n",
    "\n",
    "HL5 = 1024\n",
    "\n",
    "OL = 10"
   ]
  },
  {
   "cell_type": "code",
   "execution_count": 8,
   "metadata": {},
   "outputs": [],
   "source": [
    "# Defining the weights and bias for the five layers\n",
    "\n",
    "W1 = tf.Variable(tf.truncated_normal([784, HL1], stddev=0.1))\n",
    "b1 = tf.Variable(tf.zeros([HL1]))\n",
    "\n",
    "W2 = tf.Variable(tf.truncated_normal([HL1, HL2], stddev=0.1))\n",
    "b2 = tf.Variable(tf.zeros([HL2]))\n",
    "\n",
    "W3 = tf.Variable(tf.truncated_normal([HL2, HL3], stddev=0.1))\n",
    "b3 = tf.Variable(tf.zeros([HL3]))\n",
    "\n",
    "W4 = tf.Variable(tf.truncated_normal([HL3, HL4], stddev=0.1))\n",
    "b4 = tf.Variable(tf.zeros([HL4]))\n",
    "\n",
    "W5 = tf.Variable(tf.truncated_normal([HL4, HL5], stddev=0.1))\n",
    "b5 = tf.Variable(tf.zeros([HL5]))\n",
    "\n",
    "W6 = tf.Variable(tf.truncated_normal([HL5, OL], stddev=0.1))\n",
    "b6 = tf.Variable(tf.zeros([OL]))"
   ]
  },
  {
   "cell_type": "code",
   "execution_count": 9,
   "metadata": {},
   "outputs": [],
   "source": [
    "# Defining the activation function for each layer\n",
    "\n",
    "L1 = tf.nn.relu(tf.matmul(X, W1) + b1)\n",
    "\n",
    "L2 = tf.nn.relu(tf.matmul(L1, W2) + b2)\n",
    "\n",
    "L3 = tf.nn.relu(tf.matmul(L2, W3) + b3)\n",
    "\n",
    "L4 = tf.nn.relu(tf.matmul(L3, W4) + b4)\n",
    "\n",
    "L5 = tf.nn.relu(tf.matmul(L4, W5) + b5)\n",
    "\n",
    "Y_logits = tf.matmul(L5, W6) + b6\n",
    "\n",
    "Y_pred = tf.nn.softmax(Y_logits)"
   ]
  },
  {
   "cell_type": "code",
   "execution_count": 10,
   "metadata": {},
   "outputs": [
    {
     "name": "stdout",
     "output_type": "stream",
     "text": [
      "WARNING:tensorflow:From <ipython-input-10-4e6fdc8a9576>:3: softmax_cross_entropy_with_logits (from tensorflow.python.ops.nn_ops) is deprecated and will be removed in a future version.\n",
      "Instructions for updating:\n",
      "\n",
      "Future major versions of TensorFlow will allow gradients to flow\n",
      "into the labels input on backprop by default.\n",
      "\n",
      "See tf.nn.softmax_cross_entropy_with_logits_v2.\n",
      "\n"
     ]
    }
   ],
   "source": [
    "# Defining the Loss Function\n",
    "\n",
    "cross_entropy = tf.reduce_mean(tf.nn.softmax_cross_entropy_with_logits(logits = Y_logits, labels = Y_true))"
   ]
  },
  {
   "cell_type": "code",
   "execution_count": 11,
   "metadata": {},
   "outputs": [],
   "source": [
    "# Defining the optimizer function\n",
    "\n",
    "optimizer = tf.train.AdamOptimizer(learning_rate = 0.001)\n",
    "train = optimizer.minimize(cross_entropy)"
   ]
  },
  {
   "cell_type": "code",
   "execution_count": 12,
   "metadata": {},
   "outputs": [],
   "source": [
    "# Calculating accuracy of trained model\n",
    "\n",
    "matches = tf.equal(tf.argmax(Y_pred, 1), tf.argmax(Y_true, 1))\n",
    "accuracy = tf.reduce_mean(tf.cast(matches, tf.float32))"
   ]
  },
  {
   "cell_type": "code",
   "execution_count": 13,
   "metadata": {},
   "outputs": [],
   "source": [
    "# Creating the Session\n",
    "\n",
    "sess = tf.InteractiveSession(config = config)"
   ]
  },
  {
   "cell_type": "code",
   "execution_count": 14,
   "metadata": {},
   "outputs": [],
   "source": [
    "# Initializing all the global variables\n",
    "\n",
    "init = tf.global_variables_initializer()\n",
    "\n",
    "sess.run(init)"
   ]
  },
  {
   "cell_type": "code",
   "execution_count": 15,
   "metadata": {},
   "outputs": [
    {
     "name": "stdout",
     "output_type": "stream",
     "text": [
      "Currently on Iteration # 0\n",
      "Training Set Accuracy and Loss: Accuracy = 26.953125, Loss = 5904.0618896484375\n",
      "Test Set Accuracy and Loss: Accuracy = 23.109999299049377, Loss = 5725.975799560547\n",
      "\n",
      "\n",
      "Currently on Iteration # 5000\n",
      "Training Set Accuracy and Loss: Accuracy = 100.0, Loss = 0.4743174649775028\n",
      "Test Set Accuracy and Loss: Accuracy = 97.43000268936157, Loss = 12.120690941810608\n",
      "\n",
      "\n",
      "Currently on Iteration # 10000\n",
      "Training Set Accuracy and Loss: Accuracy = 99.609375, Loss = 0.7621244993060827\n",
      "Test Set Accuracy and Loss: Accuracy = 97.85000085830688, Loss = 12.636670470237732\n",
      "\n",
      "\n",
      "Currently on Iteration # 15000\n",
      "Training Set Accuracy and Loss: Accuracy = 100.0, Loss = 0.022537264158017933\n",
      "Test Set Accuracy and Loss: Accuracy = 98.14000129699707, Loss = 13.925909996032715\n",
      "\n",
      "\n",
      "Currently on Iteration # 20000\n",
      "Training Set Accuracy and Loss: Accuracy = 100.0, Loss = 0.3175668651238084\n",
      "Test Set Accuracy and Loss: Accuracy = 98.0400025844574, Loss = 18.494760990142822\n",
      "\n",
      "\n"
     ]
    }
   ],
   "source": [
    "epochs = 20000\n",
    "    \n",
    "for i in range(epochs + 1):\n",
    "    batch_X , batch_Y = mnist.train.next_batch(256)\n",
    "\n",
    "    sess.run(train, feed_dict={X: batch_X, Y_true: batch_Y})\n",
    "\n",
    "    if i%5000 == 0:\n",
    "        acc_trn, loss_trn = sess.run([accuracy, cross_entropy], feed_dict={X: batch_X, Y_true: batch_Y})\n",
    "\n",
    "        acc_tst, loss_tst = sess.run([accuracy, cross_entropy], feed_dict={X: mnist.test.images, Y_true: mnist.test.labels})\n",
    "\n",
    "        print(\"Currently on Iteration # {}\".format(i))\n",
    "        print(\"Training Set Accuracy and Loss: Accuracy = {}, Loss = {}\".format(acc_trn*100, loss_trn*100) )\n",
    "        print(\"Test Set Accuracy and Loss: Accuracy = {}, Loss = {}\".format(acc_tst*100, loss_tst*100))\n",
    "        print(\"\\n\")"
   ]
  },
  {
   "cell_type": "markdown",
   "metadata": {},
   "source": [
    "### Applying SVD to each weight matrix"
   ]
  },
  {
   "cell_type": "code",
   "execution_count": 16,
   "metadata": {},
   "outputs": [],
   "source": [
    "S1, U1, V1 = tf.svd(W1)\n",
    "S2, U2, V2 = tf.svd(W2)\n",
    "S3, U3, V3 = tf.svd(W3)\n",
    "S4, U4, V4 = tf.svd(W4)\n",
    "S5, U5, V5 = tf.svd(W5)"
   ]
  },
  {
   "cell_type": "markdown",
   "metadata": {},
   "source": [
    "### Converting list of singular values into diagonal matrices"
   ]
  },
  {
   "cell_type": "code",
   "execution_count": 17,
   "metadata": {},
   "outputs": [],
   "source": [
    "S1_diag = tf.diag(S1)\n",
    "S2_diag = tf.diag(S2)\n",
    "S3_diag = tf.diag(S3)\n",
    "S4_diag = tf.diag(S4)\n",
    "S5_diag = tf.diag(S5)"
   ]
  },
  {
   "cell_type": "markdown",
   "metadata": {},
   "source": [
    "### Transposing the right singular vector matrix"
   ]
  },
  {
   "cell_type": "code",
   "execution_count": 18,
   "metadata": {},
   "outputs": [],
   "source": [
    "V1_trans = tf.transpose(V1)\n",
    "V2_trans = tf.transpose(V2)\n",
    "V3_trans = tf.transpose(V3)\n",
    "V4_trans = tf.transpose(V4)\n",
    "V5_trans = tf.transpose(V5)"
   ]
  },
  {
   "cell_type": "markdown",
   "metadata": {},
   "source": [
    "### Running the trained model with singular values of different approximation"
   ]
  },
  {
   "cell_type": "code",
   "execution_count": 19,
   "metadata": {},
   "outputs": [],
   "source": [
    "svd = [10, 20 , 50 , 100, 200, S2_diag.get_shape().as_list()[0]]\n",
    "Acc = []\n",
    "\n",
    "for i in svd:\n",
    "    if i == 1024:\n",
    "        L1_red = tf.nn.relu(tf.matmul(tf.matmul(mnist.test.images, U1[:, :i]), tf.matmul(S1_diag[:, :], V1_trans[:i, :1024])) + b1)\n",
    "    else:\n",
    "        L1_red = tf.nn.relu(tf.matmul(tf.matmul(mnist.test.images, U1[:, :i]), tf.matmul(S1_diag[:i, :i], V1_trans[:i, :1024])) + b1)\n",
    "    \n",
    "    L2_red = tf.nn.relu(tf.matmul(tf.matmul(L1_red, U2[:, :i]), tf.matmul(S2_diag[:i, :i], V2_trans[:i, :1024])) + b2)\n",
    "    L3_red = tf.nn.relu(tf.matmul(tf.matmul(L2_red, U3[:, :i]), tf.matmul(S3_diag[:i, :i], V3_trans[:i, :1024])) + b3)\n",
    "    L4_red = tf.nn.relu(tf.matmul(tf.matmul(L3_red, U4[:, :i]), tf.matmul(S4_diag[:i, :i], V4_trans[:i, :1024])) + b4)\n",
    "    L5_red = tf.nn.relu(tf.matmul(tf.matmul(L4_red, U5[:, :i]), tf.matmul(S5_diag[:i, :i], V5_trans[:i, :1024])) + b5)\n",
    "    L_out = tf.nn.softmax(tf.matmul(L5_red, W6) + b6)\n",
    "\n",
    "    Acc.append(tf.reduce_mean(tf.cast(tf.equal(tf.argmax(L_out, 1), tf.argmax(mnist.test.labels, 1)), tf.float32)).eval())\n",
    "    "
   ]
  },
  {
   "cell_type": "code",
   "execution_count": 20,
   "metadata": {},
   "outputs": [
    {
     "name": "stdout",
     "output_type": "stream",
     "text": [
      "[0.3343, 0.6738, 0.9446, 0.9709, 0.9804, 0.9804]\n"
     ]
    }
   ],
   "source": [
    "print(Acc)"
   ]
  },
  {
   "cell_type": "code",
   "execution_count": 21,
   "metadata": {},
   "outputs": [
    {
     "data": {
      "image/png": "[encoded data removed]",
      "text/plain": [
       "<matplotlib.figure.Figure at 0x7f0730bb6198>"
      ]
     },
     "metadata": {},
     "output_type": "display_data"
    }
   ],
   "source": [
    "plt.plot(svd, Acc, marker='o')\n",
    "plt.xlabel(\"Number of Singular Values considered\")\n",
    "plt.ylabel(\"Accuracy\")\n",
    "plt.title(\"Accuracy of classification using different Singular values of approximation\")\n",
    "plt.show()"
   ]
  },
  {
   "cell_type": "code",
   "execution_count": 30,
   "metadata": {},
   "outputs": [],
   "source": [
    "# Creating the Place Holders\n",
    "\n",
    "X_20 = tf.placeholder(tf.float32, shape = [None, 784])\n",
    "\n",
    "Y_true_20 = tf.placeholder(tf.float32, shape = [None, 10])"
   ]
  },
  {
   "cell_type": "code",
   "execution_count": 31,
   "metadata": {},
   "outputs": [],
   "source": [
    "U1_red = tf.Variable(U1[:, :20])\n",
    "U2_red = tf.Variable(U2[:, :20])\n",
    "U3_red = tf.Variable(U3[:, :20])\n",
    "U4_red = tf.Variable(U4[:, :20])\n",
    "U5_red = tf.Variable(U5[:, :20])"
   ]
  },
  {
   "cell_type": "code",
   "execution_count": 32,
   "metadata": {},
   "outputs": [],
   "source": [
    "SV1 = tf.matmul(tf.Variable(S1_diag[:20, :20]), tf.Variable(V1_trans[:20, :]))\n",
    "SV2 = tf.matmul(tf.Variable(S2_diag[:20, :20]), tf.Variable(V2_trans[:20, :]))\n",
    "SV3 = tf.matmul(tf.Variable(S3_diag[:20, :20]), tf.Variable(V3_trans[:20, :]))\n",
    "SV4 = tf.matmul(tf.Variable(S4_diag[:20, :20]), tf.Variable(V4_trans[:20, :]))\n",
    "SV5 = tf.matmul(tf.Variable(S5_diag[:20, :20]), tf.Variable(V5_trans[:20, :]))"
   ]
  },
  {
   "cell_type": "code",
   "execution_count": 33,
   "metadata": {},
   "outputs": [],
   "source": [
    "L11 = tf.matmul(X_20, U1_red)\n",
    "L12 = tf.nn.relu(tf.matmul(L11, SV1) + b1)\n",
    "\n",
    "L21 = tf.matmul(L12, U2_red)\n",
    "L22 = tf.nn.relu(tf.matmul(L21, SV2) + b2)\n",
    "\n",
    "L31 = tf.matmul(L22, U3_red)\n",
    "L32 = tf.nn.relu(tf.matmul(L31, SV3) + b3)\n",
    "\n",
    "L41 = tf.matmul(L32, U4_red)\n",
    "L42 = tf.nn.relu(tf.matmul(L41, SV4) + b4)\n",
    "\n",
    "L51 = tf.matmul(L42, U5_red)\n",
    "L52 = tf.nn.relu(tf.matmul(L51, SV5) + b5)\n",
    "\n",
    "Y_logits_20 = tf.matmul(L52, W6) + b6\n",
    "Y_pred_20 = tf.nn.softmax(Y_logits_20)"
   ]
  },
  {
   "cell_type": "code",
   "execution_count": 34,
   "metadata": {},
   "outputs": [],
   "source": [
    "# Defining the Loss Function\n",
    "\n",
    "cross_entropy_20 = tf.reduce_mean(tf.nn.softmax_cross_entropy_with_logits(logits = Y_logits_20, labels = Y_true_20))"
   ]
  },
  {
   "cell_type": "code",
   "execution_count": 35,
   "metadata": {},
   "outputs": [],
   "source": [
    "# Defining the optimizer function\n",
    " \n",
    "train_20 = tf.train.AdamOptimizer(learning_rate = 0.001).minimize(cross_entropy_20)"
   ]
  },
  {
   "cell_type": "code",
   "execution_count": 36,
   "metadata": {},
   "outputs": [],
   "source": [
    "# Calculating accuracy of trained model\n",
    "\n",
    "accuracy_20 = tf.reduce_mean(tf.cast(tf.equal(tf.argmax(Y_pred_20, 1), tf.argmax(Y_true_20, 1)), tf.float32))"
   ]
  },
  {
   "cell_type": "code",
   "execution_count": 37,
   "metadata": {
    "scrolled": false
   },
   "outputs": [
    {
     "name": "stdout",
     "output_type": "stream",
     "text": [
      "Currently on Iteration # 0\n",
      "Training Set Accuracy and Loss: Accuracy = 15.625, Loss = 227.30181217193604\n",
      "Test Set Accuracy and Loss: Accuracy = 11.180000007152557, Loss = 229.17683124542236\n",
      "\n",
      "\n",
      "Currently on Iteration # 500\n",
      "Training Set Accuracy and Loss: Accuracy = 97.265625, Loss = 11.268378794193268\n",
      "Test Set Accuracy and Loss: Accuracy = 95.41000127792358, Loss = 16.48366004228592\n",
      "\n",
      "\n",
      "Currently on Iteration # 1000\n",
      "Training Set Accuracy and Loss: Accuracy = 99.609375, Loss = 4.3094199150800705\n",
      "Test Set Accuracy and Loss: Accuracy = 96.35999798774719, Loss = 13.19378912448883\n",
      "\n",
      "\n",
      "Currently on Iteration # 1500\n",
      "Training Set Accuracy and Loss: Accuracy = 98.828125, Loss = 5.6985314935445786\n",
      "Test Set Accuracy and Loss: Accuracy = 96.88000082969666, Loss = 12.71466463804245\n",
      "\n",
      "\n",
      "Currently on Iteration # 2000\n",
      "Training Set Accuracy and Loss: Accuracy = 98.4375, Loss = 3.2295145094394684\n",
      "Test Set Accuracy and Loss: Accuracy = 97.26999998092651, Loss = 10.542822629213333\n",
      "\n",
      "\n"
     ]
    }
   ],
   "source": [
    "epochs = 2000\n",
    "sess.run(tf.global_variables_initializer())    \n",
    "for i in range(epochs + 1):\n",
    "    batch_X , batch_Y = mnist.train.next_batch(256)\n",
    "\n",
    "    sess.run(train_20, feed_dict={X_20: batch_X, Y_true_20: batch_Y})\n",
    "\n",
    "    if i%500 == 0:\n",
    "        acc_trn, loss_trn = sess.run([accuracy_20, cross_entropy_20], feed_dict={X_20: batch_X, Y_true_20: batch_Y})\n",
    "\n",
    "        acc_tst, loss_tst = sess.run([accuracy_20, cross_entropy_20], feed_dict={X_20: mnist.test.images, Y_true_20: mnist.test.labels})\n",
    "\n",
    "        print(\"Currently on Iteration # {}\".format(i))\n",
    "        print(\"Training Set Accuracy and Loss: Accuracy = {}, Loss = {}\".format(acc_trn*100, loss_trn*100) )\n",
    "        print(\"Test Set Accuracy and Loss: Accuracy = {}, Loss = {}\".format(acc_tst*100, loss_tst*100))\n",
    "        print(\"\\n\")"
   ]
  },
  {
   "cell_type": "code",
   "execution_count": null,
   "metadata": {},
   "outputs": [],
   "source": []
  }
 ],
 "metadata": {
  "kernelspec": {
   "display_name": "Python 3",
   "language": "python",
   "name": "python3"
  },
  "language_info": {
   "codemirror_mode": {
    "name": "ipython",
    "version": 3
   },
   "file_extension": ".py",
   "mimetype": "text/x-python",
   "name": "python",
   "nbconvert_exporter": "python",
   "pygments_lexer": "ipython3",
   "version": "3.6.5"
  }
 },
 "nbformat": 4,
 "nbformat_minor": 2
}
